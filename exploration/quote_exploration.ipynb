{
 "cells": [
  {
   "cell_type": "code",
   "execution_count": 1,
   "metadata": {
    "collapsed": true
   },
   "outputs": [],
   "source": [
    "import pandas as pd\n",
    "import collections\n",
    "from matplotlib import pyplot as plt"
   ]
  },
  {
   "cell_type": "code",
   "execution_count": 2,
   "metadata": {
    "collapsed": true
   },
   "outputs": [],
   "source": [
    "import warnings\n",
    "warnings.filterwarnings(\"ignore\")"
   ]
  },
  {
   "cell_type": "code",
   "execution_count": 3,
   "metadata": {
    "collapsed": true
   },
   "outputs": [],
   "source": [
    "path_data = \"../data/videos_parsed\"\n",
    "path_stopwords = \"../stopwords/serbo_croatian.csv\""
   ]
  },
  {
   "cell_type": "markdown",
   "metadata": {},
   "source": [
    "# Loading data"
   ]
  },
  {
   "cell_type": "code",
   "execution_count": 4,
   "metadata": {
    "collapsed": true
   },
   "outputs": [],
   "source": [
    "def load_stopwords(file_path):\n",
    "    \"\"\" Loads stopword file, returns a list of words\n",
    "    \"\"\"\n",
    "    df = pd.read_csv(file_path)\n",
    "    stopwords = list(df.values.flatten())\n",
    "    first_word = df.columns[0]\n",
    "    stopwords.append(first_word)\n",
    "    return stopwords"
   ]
  },
  {
   "cell_type": "code",
   "execution_count": 5,
   "metadata": {
    "collapsed": true
   },
   "outputs": [],
   "source": [
    "data = pd.read_pickle(path_data)"
   ]
  },
  {
   "cell_type": "code",
   "execution_count": 6,
   "metadata": {
    "collapsed": false
   },
   "outputs": [],
   "source": [
    "stopwords = load_stopwords(path_stopwords)"
   ]
  },
  {
   "cell_type": "markdown",
   "metadata": {},
   "source": [
    "# Filtering stop words"
   ]
  },
  {
   "cell_type": "code",
   "execution_count": 7,
   "metadata": {
    "collapsed": false
   },
   "outputs": [],
   "source": [
    "MISSING_STOPWORDS = [\"i\", \"da\", \"je\",\"u\", \"su\", \"na\", \"se\", \"za\", \"ne\",\n",
    "                     \"će\", \"od\", \"sam\", \"iz\", \"samo\", \"sa\", \"mi\", \"o\", \"jer\", \"do\",\n",
    "                    \"ali\",\"ako\",\"do\",\"što\",\"bili\",\"bi\",\"treba\", \"smo\", \"nama\", \"nam\",\n",
    "                     \"a\", \"me\", \"to\", \"sebe\", \"svi\", \"deo\", \"nema\", \"čeka\", \"svih\",\n",
    "                    \"neće\", \"našu\", \"iza\", \"ceo\", \"širom\", \"naši\", \"naša\", \"među\", \n",
    "                    \"celu\",\"ga\", \"uz\", \"bila\", \"gori\", \"već\", \"niko\", \"sme\", \"pred\", \"mu\",\n",
    "                   \"ću\", \"pa\", \"po\", \"bilo\", \"moji\", \"našeg\", \"bih\", \"ni\", \"ili\", \"tu\", \"ovu\"]\n"
   ]
  },
  {
   "cell_type": "code",
   "execution_count": 8,
   "metadata": {
    "collapsed": false
   },
   "outputs": [
    {
     "data": {
      "text/html": [
       "<div>\n",
       "<style>\n",
       "    .dataframe thead tr:only-child th {\n",
       "        text-align: right;\n",
       "    }\n",
       "\n",
       "    .dataframe thead th {\n",
       "        text-align: left;\n",
       "    }\n",
       "\n",
       "    .dataframe tbody tr th {\n",
       "        vertical-align: top;\n",
       "    }\n",
       "</style>\n",
       "<table border=\"1\" class=\"dataframe\">\n",
       "  <thead>\n",
       "    <tr style=\"text-align: right;\">\n",
       "      <th></th>\n",
       "      <th>title</th>\n",
       "      <th>published</th>\n",
       "      <th>tags</th>\n",
       "      <th>comments</th>\n",
       "      <th>likes</th>\n",
       "      <th>dislikes</th>\n",
       "      <th>favourites</th>\n",
       "      <th>views</th>\n",
       "      <th>guest_name</th>\n",
       "      <th>quote</th>\n",
       "      <th>tokens</th>\n",
       "      <th>2_gram</th>\n",
       "      <th>3_gram</th>\n",
       "      <th>page_name</th>\n",
       "      <th>year</th>\n",
       "      <th>month</th>\n",
       "      <th>month_from_start</th>\n",
       "      <th>week_day</th>\n",
       "    </tr>\n",
       "  </thead>\n",
       "  <tbody>\n",
       "    <tr>\n",
       "      <th>0</th>\n",
       "      <td>INTERVJU: Slobodan Komazec - Vučić uništava dr...</td>\n",
       "      <td>2018-03-15</td>\n",
       "      <td>[Balkan Info Intervju, Balkan Info, Балкан Инф...</td>\n",
       "      <td>88</td>\n",
       "      <td>250</td>\n",
       "      <td>19</td>\n",
       "      <td>0</td>\n",
       "      <td>9432</td>\n",
       "      <td>Slobodan Komazec</td>\n",
       "      <td>Vučić uništava državu, jer ne zna ništa o ekon...</td>\n",
       "      <td>[vučić, uništava, državu, jer, ne, zna, ništa,...</td>\n",
       "      <td>[vučić uništava, uništava državu, državu jer, ...</td>\n",
       "      <td>[vučić uništava državu, uništava državu jer, d...</td>\n",
       "      <td>Slobodan_Komazec</td>\n",
       "      <td>2018</td>\n",
       "      <td>3</td>\n",
       "      <td>34</td>\n",
       "      <td>Thursday</td>\n",
       "    </tr>\n",
       "    <tr>\n",
       "      <th>1</th>\n",
       "      <td>INTERVJU: Jelena Maćić - Opozicija će ovakvim ...</td>\n",
       "      <td>2018-03-13</td>\n",
       "      <td>[Balkan Info Intervju, Balkan Info, Балкан Инф...</td>\n",
       "      <td>465</td>\n",
       "      <td>493</td>\n",
       "      <td>254</td>\n",
       "      <td>0</td>\n",
       "      <td>51341</td>\n",
       "      <td>Jelena Maćić</td>\n",
       "      <td>Opozicija će ovakvim ponašanjem biti skroz izb...</td>\n",
       "      <td>[opozicija, će, ovakvim, ponašanjem, biti, skr...</td>\n",
       "      <td>[opozicija će, će ovakvim, ovakvim ponašanjem,...</td>\n",
       "      <td>[opozicija će ovakvim, će ovakvim ponašanjem, ...</td>\n",
       "      <td>Jelena_Maćić</td>\n",
       "      <td>2018</td>\n",
       "      <td>3</td>\n",
       "      <td>34</td>\n",
       "      <td>Tuesday</td>\n",
       "    </tr>\n",
       "  </tbody>\n",
       "</table>\n",
       "</div>"
      ],
      "text/plain": [
       "                                               title  published  \\\n",
       "0  INTERVJU: Slobodan Komazec - Vučić uništava dr... 2018-03-15   \n",
       "1  INTERVJU: Jelena Maćić - Opozicija će ovakvim ... 2018-03-13   \n",
       "\n",
       "                                                tags  comments  likes  \\\n",
       "0  [Balkan Info Intervju, Balkan Info, Балкан Инф...        88    250   \n",
       "1  [Balkan Info Intervju, Balkan Info, Балкан Инф...       465    493   \n",
       "\n",
       "   dislikes  favourites  views        guest_name  \\\n",
       "0        19           0   9432  Slobodan Komazec   \n",
       "1       254           0  51341      Jelena Maćić   \n",
       "\n",
       "                                               quote  \\\n",
       "0  Vučić uništava državu, jer ne zna ništa o ekon...   \n",
       "1  Opozicija će ovakvim ponašanjem biti skroz izb...   \n",
       "\n",
       "                                              tokens  \\\n",
       "0  [vučić, uništava, državu, jer, ne, zna, ništa,...   \n",
       "1  [opozicija, će, ovakvim, ponašanjem, biti, skr...   \n",
       "\n",
       "                                              2_gram  \\\n",
       "0  [vučić uništava, uništava državu, državu jer, ...   \n",
       "1  [opozicija će, će ovakvim, ovakvim ponašanjem,...   \n",
       "\n",
       "                                              3_gram         page_name  year  \\\n",
       "0  [vučić uništava državu, uništava državu jer, d...  Slobodan_Komazec  2018   \n",
       "1  [opozicija će ovakvim, će ovakvim ponašanjem, ...      Jelena_Maćić  2018   \n",
       "\n",
       "   month  month_from_start  week_day  \n",
       "0      3                34  Thursday  \n",
       "1      3                34   Tuesday  "
      ]
     },
     "execution_count": 8,
     "metadata": {},
     "output_type": "execute_result"
    }
   ],
   "source": [
    "data.head(2)"
   ]
  },
  {
   "cell_type": "code",
   "execution_count": 9,
   "metadata": {
    "collapsed": false
   },
   "outputs": [
    {
     "name": "stdout",
     "output_type": "stream",
     "text": [
      "Number of words used: 4419\n"
     ]
    }
   ],
   "source": [
    "all_words = sum(data.tokens.values, [])\n",
    "print(\"Number of words used:\", len(all_words))"
   ]
  },
  {
   "cell_type": "code",
   "execution_count": 10,
   "metadata": {
    "collapsed": false
   },
   "outputs": [
    {
     "name": "stdout",
     "output_type": "stream",
     "text": [
      "Number of unique words used: 1768\n"
     ]
    }
   ],
   "source": [
    "unique_words = set(all_words)\n",
    "print(\"Number of unique words used:\", len(unique_words))"
   ]
  },
  {
   "cell_type": "code",
   "execution_count": 11,
   "metadata": {
    "collapsed": true
   },
   "outputs": [],
   "source": [
    "stopwords = stopwords + MISSING_STOPWORDS"
   ]
  },
  {
   "cell_type": "code",
   "execution_count": 12,
   "metadata": {
    "collapsed": true
   },
   "outputs": [],
   "source": [
    "def remove_stopwords(words, stopwords):\n",
    "    \"\"\" Returns a lsit of 'informative' words\n",
    "    \"\"\"\n",
    "    new_words = []\n",
    "    for word in words:\n",
    "        if word not in stopwords:\n",
    "            new_words.append(word)\n",
    "    return new_words"
   ]
  },
  {
   "cell_type": "code",
   "execution_count": 13,
   "metadata": {
    "collapsed": true
   },
   "outputs": [],
   "source": [
    "words = remove_stopwords(all_words, stopwords)"
   ]
  },
  {
   "cell_type": "code",
   "execution_count": 14,
   "metadata": {
    "collapsed": false
   },
   "outputs": [
    {
     "name": "stdout",
     "output_type": "stream",
     "text": [
      "Number of all words after removing stopwords: 2923\n"
     ]
    }
   ],
   "source": [
    "print(\"Number of all words after removing stopwords:\", len(words))"
   ]
  },
  {
   "cell_type": "code",
   "execution_count": 15,
   "metadata": {
    "collapsed": false
   },
   "outputs": [
    {
     "name": "stdout",
     "output_type": "stream",
     "text": [
      "Number of all unique after removing stopwords: 1648\n"
     ]
    }
   ],
   "source": [
    "print(\"Number of all unique after removing stopwords:\", len(set(words)))"
   ]
  },
  {
   "cell_type": "markdown",
   "metadata": {},
   "source": [
    "# Most frequent words "
   ]
  },
  {
   "cell_type": "code",
   "execution_count": 16,
   "metadata": {
    "collapsed": true
   },
   "outputs": [],
   "source": [
    "def distribution_plot(frequencies, x_label, y_label, title, scale_x=\"linear\", scale_y=\"linear\"):\n",
    "    plt.plot(frequencies)\n",
    "    plt.yscale(scale_y)\n",
    "    plt.xscale(scale_x)\n",
    "    plt.xlabel(x_label)\n",
    "    plt.ylabel(y_label)\n",
    "    plt.title(title)\n",
    "    plt.show()"
   ]
  },
  {
   "cell_type": "code",
   "execution_count": 17,
   "metadata": {
    "collapsed": false
   },
   "outputs": [],
   "source": [
    "counter = collections.Counter(words)"
   ]
  },
  {
   "cell_type": "code",
   "execution_count": 18,
   "metadata": {
    "collapsed": false
   },
   "outputs": [],
   "source": [
    "word_frequency = counter.most_common()"
   ]
  },
  {
   "cell_type": "code",
   "execution_count": 19,
   "metadata": {
    "collapsed": true
   },
   "outputs": [],
   "source": [
    "frequencies_ordered = pd.DataFrame(word_frequency)[1].values"
   ]
  },
  {
   "cell_type": "code",
   "execution_count": 20,
   "metadata": {
    "collapsed": false
   },
   "outputs": [
    {
     "data": {
      "text/plain": [
       "count    1648.000000\n",
       "mean        1.773665\n",
       "std         2.795453\n",
       "min         1.000000\n",
       "25%         1.000000\n",
       "50%         1.000000\n",
       "75%         2.000000\n",
       "max        74.000000\n",
       "Name: 1, dtype: float64"
      ]
     },
     "execution_count": 20,
     "metadata": {},
     "output_type": "execute_result"
    }
   ],
   "source": [
    "pd.DataFrame(word_frequency)[1].describe()"
   ]
  },
  {
   "cell_type": "code",
   "execution_count": 21,
   "metadata": {
    "collapsed": false
   },
   "outputs": [
    {
     "data": {
      "image/png": "[encoded data removed]",
      "text/plain": [
       "<matplotlib.figure.Figure at 0x2231c08b5c0>"
      ]
     },
     "metadata": {},
     "output_type": "display_data"
    }
   ],
   "source": [
    "distribution_plot(frequencies_ordered, \"count\", \"frequency\", \"Distribution\")"
   ]
  },
  {
   "cell_type": "code",
   "execution_count": 22,
   "metadata": {
    "collapsed": false
   },
   "outputs": [
    {
     "data": {
      "image/png": "[encoded data removed]",
      "text/plain": [
       "<matplotlib.figure.Figure at 0x2231e1a9748>"
      ]
     },
     "metadata": {},
     "output_type": "display_data"
    }
   ],
   "source": [
    "distribution_plot(frequencies_ordered, \"count\", \"frequency\", \"Distribution log log\", scale_y=\"log\")"
   ]
  },
  {
   "cell_type": "code",
   "execution_count": 23,
   "metadata": {
    "collapsed": false
   },
   "outputs": [
    {
     "data": {
      "image/png": "[encoded data removed]",
      "text/plain": [
       "<matplotlib.figure.Figure at 0x2231c064358>"
      ]
     },
     "metadata": {},
     "output_type": "display_data"
    }
   ],
   "source": [
    "distribution_plot(frequencies_ordered, \"count\", \"frequency\", \"Distribution log log\", scale_x=\"log\", scale_y=\"log\")"
   ]
  },
  {
   "cell_type": "code",
   "execution_count": 24,
   "metadata": {
    "collapsed": false
   },
   "outputs": [
    {
     "data": {
      "image/png": "[encoded data removed]",
      "text/plain": [
       "<matplotlib.figure.Figure at 0x2231f73c320>"
      ]
     },
     "metadata": {},
     "output_type": "display_data"
    }
   ],
   "source": [
    "plt.boxplot(frequencies_ordered,showfliers=False, vert=False)\n",
    "plt.show()"
   ]
  },
  {
   "cell_type": "code",
   "execution_count": 25,
   "metadata": {
    "collapsed": false
   },
   "outputs": [],
   "source": [
    "top50 = counter.most_common(50)"
   ]
  },
  {
   "cell_type": "code",
   "execution_count": 26,
   "metadata": {
    "collapsed": true
   },
   "outputs": [],
   "source": [
    "top10 = counter.most_common(10)"
   ]
  },
  {
   "cell_type": "code",
   "execution_count": 54,
   "metadata": {
    "collapsed": false
   },
   "outputs": [],
   "source": [
    "def plot_top_x(top_x,title):\n",
    "    df = pd.DataFrame(top_x)\n",
    "    df.index = df[0].values\n",
    "    df.plot(kind=\"bar\", title=title)\n",
    "# top10.plot(kind='bar', title=\"Top 10 locations\")\n",
    "#     plt.figure(figsize=(30, 26))\n",
    "    plt.ylabel('Frequency')\n",
    "    plt.xlabel('n-gram')\n",
    "#     plt.legend().set_visible(False)\n",
    "    plt.show()"
   ]
  },
  {
   "cell_type": "code",
   "execution_count": 49,
   "metadata": {
    "collapsed": false
   },
   "outputs": [
    {
     "data": {
      "text/plain": [
       "<matplotlib.figure.Figure at 0x2231f7ec8d0>"
      ]
     },
     "metadata": {},
     "output_type": "display_data"
    },
    {
     "data": {
      "image/png": "[encoded data removed]",
      "text/plain": [
       "<matplotlib.figure.Figure at 0x2231f8bbac8>"
      ]
     },
     "metadata": {},
     "output_type": "display_data"
    },
    {
     "data": {
      "image/png": "[encoded data removed]",
      "text/plain": [
       "<matplotlib.figure.Figure at 0x2231f9a26d8>"
      ]
     },
     "metadata": {},
     "output_type": "display_data"
    }
   ],
   "source": [
    "plot_top_x(top10, \"Top 10 terms\")"
   ]
  },
  {
   "cell_type": "code",
   "execution_count": 55,
   "metadata": {
    "collapsed": false
   },
   "outputs": [
    {
     "data": {
      "text/plain": [
       "<matplotlib.figure.Figure at 0x2231e2bdba8>"
      ]
     },
     "metadata": {},
     "output_type": "display_data"
    },
    {
     "data": {
      "image/png": "[encoded data removed]",
      "text/plain": [
       "<matplotlib.figure.Figure at 0x2231e2a36a0>"
      ]
     },
     "metadata": {},
     "output_type": "display_data"
    }
   ],
   "source": [
    "lst = sum(data[\"2_gram\"].values, [])\n",
    "counter = collections.Counter(lst)\n",
    "top10 = counter.most_common(10)\n",
    "plot_top_x(top10, \"Top 10 2-grams\")\n",
    "plt.savefig(\"../figures/2_gram\")"
   ]
  },
  {
   "cell_type": "code",
   "execution_count": 56,
   "metadata": {
    "collapsed": false
   },
   "outputs": [
    {
     "data": {
      "text/plain": [
       "<matplotlib.figure.Figure at 0x2231fa38320>"
      ]
     },
     "metadata": {},
     "output_type": "display_data"
    },
    {
     "data": {
      "image/png": "[encoded data removed]",
      "text/plain": [
       "<matplotlib.figure.Figure at 0x2231f9aac50>"
      ]
     },
     "metadata": {},
     "output_type": "display_data"
    }
   ],
   "source": [
    "lst = sum(data[\"3_gram\"].values, [])\n",
    "counter = collections.Counter(lst)\n",
    "top10 = counter.most_common(10)\n",
    "plot_top_x(top10, \"Top 10 3-grams\")\n",
    "plt.savefig(\"../figures/3_gram.png\")"
   ]
  },
  {
   "cell_type": "code",
   "execution_count": null,
   "metadata": {
    "collapsed": true
   },
   "outputs": [],
   "source": []
  }
 ],
 "metadata": {
  "kernelspec": {
   "display_name": "Python 3",
   "language": "python",
   "name": "python3"
  },
  "language_info": {
   "codemirror_mode": {
    "name": "ipython",
    "version": 3
   },
   "file_extension": ".py",
   "mimetype": "text/x-python",
   "name": "python",
   "nbconvert_exporter": "python",
   "pygments_lexer": "ipython3",
   "version": "3.6.0"
  }
 },
 "nbformat": 4,
 "nbformat_minor": 2
}
