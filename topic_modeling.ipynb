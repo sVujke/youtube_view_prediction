{
 "cells": [
  {
   "cell_type": "code",
   "execution_count": 5,
   "metadata": {
    "collapsed": false
   },
   "outputs": [],
   "source": [
    "import pandas as pd \n",
    "import gensim\n",
    "from gensim.models.ldamodel import LdaModel"
   ]
  },
  {
   "cell_type": "markdown",
   "metadata": {},
   "source": [
    "# Paths"
   ]
  },
  {
   "cell_type": "code",
   "execution_count": 15,
   "metadata": {
    "collapsed": true
   },
   "outputs": [],
   "source": [
    "video_data = \"data/videos_parsed\"\n",
    "path_stopwords = \"stopwords/serbo_croatian.csv\""
   ]
  },
  {
   "cell_type": "markdown",
   "metadata": {},
   "source": [
    "# Load data"
   ]
  },
  {
   "cell_type": "code",
   "execution_count": 13,
   "metadata": {
    "collapsed": true
   },
   "outputs": [],
   "source": [
    "def load_stopwords(file_path):\n",
    "    \"\"\" Loads stopword file, returns a list of words\n",
    "    \"\"\"\n",
    "    df = pd.read_csv(file_path)\n",
    "    stopwords = list(df.values.flatten())\n",
    "    first_word = df.columns[0]\n",
    "    stopwords.append(first_word)\n",
    "    return stopwords"
   ]
  },
  {
   "cell_type": "code",
   "execution_count": 17,
   "metadata": {
    "collapsed": false
   },
   "outputs": [],
   "source": [
    "stopwords = load_stopwords(path_stopwords)\n",
    "# stopwords"
   ]
  },
  {
   "cell_type": "code",
   "execution_count": 10,
   "metadata": {
    "collapsed": false
   },
   "outputs": [
    {
     "data": {
      "text/html": [
       "<div>\n",
       "<style>\n",
       "    .dataframe thead tr:only-child th {\n",
       "        text-align: right;\n",
       "    }\n",
       "\n",
       "    .dataframe thead th {\n",
       "        text-align: left;\n",
       "    }\n",
       "\n",
       "    .dataframe tbody tr th {\n",
       "        vertical-align: top;\n",
       "    }\n",
       "</style>\n",
       "<table border=\"1\" class=\"dataframe\">\n",
       "  <thead>\n",
       "    <tr style=\"text-align: right;\">\n",
       "      <th></th>\n",
       "      <th>title</th>\n",
       "      <th>published</th>\n",
       "      <th>tags</th>\n",
       "      <th>comments</th>\n",
       "      <th>likes</th>\n",
       "      <th>dislikes</th>\n",
       "      <th>favourites</th>\n",
       "      <th>views</th>\n",
       "      <th>guest_name</th>\n",
       "      <th>quote</th>\n",
       "      <th>tokens</th>\n",
       "      <th>2_gram</th>\n",
       "      <th>3_gram</th>\n",
       "      <th>page_name</th>\n",
       "      <th>year</th>\n",
       "      <th>month</th>\n",
       "      <th>month_from_start</th>\n",
       "      <th>week_day</th>\n",
       "    </tr>\n",
       "  </thead>\n",
       "  <tbody>\n",
       "    <tr>\n",
       "      <th>0</th>\n",
       "      <td>INTERVJU: Slobodan Komazec - Vučić uništava dr...</td>\n",
       "      <td>2018-03-15</td>\n",
       "      <td>[Balkan Info Intervju, Balkan Info, Балкан Инф...</td>\n",
       "      <td>88</td>\n",
       "      <td>250</td>\n",
       "      <td>19</td>\n",
       "      <td>0</td>\n",
       "      <td>9432</td>\n",
       "      <td>Slobodan Komazec</td>\n",
       "      <td>Vučić uništava državu, jer ne zna ništa o ekon...</td>\n",
       "      <td>[vučić, uništava, državu, jer, ne, zna, ništa,...</td>\n",
       "      <td>[vučić uništava, uništava državu, državu jer, ...</td>\n",
       "      <td>[vučić uništava državu, uništava državu jer, d...</td>\n",
       "      <td>Slobodan_Komazec</td>\n",
       "      <td>2018</td>\n",
       "      <td>3</td>\n",
       "      <td>34</td>\n",
       "      <td>Thursday</td>\n",
       "    </tr>\n",
       "    <tr>\n",
       "      <th>1</th>\n",
       "      <td>INTERVJU: Jelena Maćić - Opozicija će ovakvim ...</td>\n",
       "      <td>2018-03-13</td>\n",
       "      <td>[Balkan Info Intervju, Balkan Info, Балкан Инф...</td>\n",
       "      <td>465</td>\n",
       "      <td>493</td>\n",
       "      <td>254</td>\n",
       "      <td>0</td>\n",
       "      <td>51341</td>\n",
       "      <td>Jelena Maćić</td>\n",
       "      <td>Opozicija će ovakvim ponašanjem biti skroz izb...</td>\n",
       "      <td>[opozicija, će, ovakvim, ponašanjem, biti, skr...</td>\n",
       "      <td>[opozicija će, će ovakvim, ovakvim ponašanjem,...</td>\n",
       "      <td>[opozicija će ovakvim, će ovakvim ponašanjem, ...</td>\n",
       "      <td>Jelena_Maćić</td>\n",
       "      <td>2018</td>\n",
       "      <td>3</td>\n",
       "      <td>34</td>\n",
       "      <td>Tuesday</td>\n",
       "    </tr>\n",
       "    <tr>\n",
       "      <th>2</th>\n",
       "      <td>INTERVJU: Zoran Živković - Đinđića su ubili on...</td>\n",
       "      <td>2018-03-12</td>\n",
       "      <td>[Balkan Info, Балкан Инфо, Теша Тешановић, Teš...</td>\n",
       "      <td>280</td>\n",
       "      <td>231</td>\n",
       "      <td>547</td>\n",
       "      <td>0</td>\n",
       "      <td>20028</td>\n",
       "      <td>Zoran Živković</td>\n",
       "      <td>Đinđića su ubili oni koji su se plašili modern...</td>\n",
       "      <td>[đinđića, su, ubili, oni, koji, su, se, plašil...</td>\n",
       "      <td>[đinđića su, su ubili, ubili oni, oni koji, ko...</td>\n",
       "      <td>[đinđića su ubili, su ubili oni, ubili oni koj...</td>\n",
       "      <td>Zoran_Živković</td>\n",
       "      <td>2018</td>\n",
       "      <td>3</td>\n",
       "      <td>34</td>\n",
       "      <td>Monday</td>\n",
       "    </tr>\n",
       "    <tr>\n",
       "      <th>3</th>\n",
       "      <td>INTERVJU: Dragan Petrović - Bliži se poslednji...</td>\n",
       "      <td>2018-03-11</td>\n",
       "      <td>[Balkan Info, Балкан Инфо, Теша Тешановић, Teš...</td>\n",
       "      <td>298</td>\n",
       "      <td>693</td>\n",
       "      <td>81</td>\n",
       "      <td>0</td>\n",
       "      <td>51857</td>\n",
       "      <td>Dragan Petrović</td>\n",
       "      <td>Bliži se poslednji trenutak da sprečimo izdaju...</td>\n",
       "      <td>[bliži, se, poslednji, trenutak, da, sprečimo,...</td>\n",
       "      <td>[bliži se, se poslednji, poslednji trenutak, t...</td>\n",
       "      <td>[bliži se poslednji, se poslednji trenutak, po...</td>\n",
       "      <td>Dragan_Petrović</td>\n",
       "      <td>2018</td>\n",
       "      <td>3</td>\n",
       "      <td>34</td>\n",
       "      <td>Sunday</td>\n",
       "    </tr>\n",
       "    <tr>\n",
       "      <th>4</th>\n",
       "      <td>INTERVJU: Petar Čelik - Svetom vladaju oni koj...</td>\n",
       "      <td>2018-03-10</td>\n",
       "      <td>[Balkan Info Intervju, Balkan Info, Балкан Инф...</td>\n",
       "      <td>240</td>\n",
       "      <td>727</td>\n",
       "      <td>74</td>\n",
       "      <td>0</td>\n",
       "      <td>49875</td>\n",
       "      <td>Petar Čelik</td>\n",
       "      <td>Svetom vladaju oni koji kontrolišu sve tokove ...</td>\n",
       "      <td>[svetom, vladaju, oni, koji, kontrolišu, sve, ...</td>\n",
       "      <td>[svetom vladaju, vladaju oni, oni koji, koji k...</td>\n",
       "      <td>[svetom vladaju oni, vladaju oni koji, oni koj...</td>\n",
       "      <td>Petar_Čelik</td>\n",
       "      <td>2018</td>\n",
       "      <td>3</td>\n",
       "      <td>34</td>\n",
       "      <td>Saturday</td>\n",
       "    </tr>\n",
       "  </tbody>\n",
       "</table>\n",
       "</div>"
      ],
      "text/plain": [
       "                                               title  published  \\\n",
       "0  INTERVJU: Slobodan Komazec - Vučić uništava dr... 2018-03-15   \n",
       "1  INTERVJU: Jelena Maćić - Opozicija će ovakvim ... 2018-03-13   \n",
       "2  INTERVJU: Zoran Živković - Đinđića su ubili on... 2018-03-12   \n",
       "3  INTERVJU: Dragan Petrović - Bliži se poslednji... 2018-03-11   \n",
       "4  INTERVJU: Petar Čelik - Svetom vladaju oni koj... 2018-03-10   \n",
       "\n",
       "                                                tags  comments  likes  \\\n",
       "0  [Balkan Info Intervju, Balkan Info, Балкан Инф...        88    250   \n",
       "1  [Balkan Info Intervju, Balkan Info, Балкан Инф...       465    493   \n",
       "2  [Balkan Info, Балкан Инфо, Теша Тешановић, Teš...       280    231   \n",
       "3  [Balkan Info, Балкан Инфо, Теша Тешановић, Teš...       298    693   \n",
       "4  [Balkan Info Intervju, Balkan Info, Балкан Инф...       240    727   \n",
       "\n",
       "   dislikes  favourites  views        guest_name  \\\n",
       "0        19           0   9432  Slobodan Komazec   \n",
       "1       254           0  51341      Jelena Maćić   \n",
       "2       547           0  20028    Zoran Živković   \n",
       "3        81           0  51857   Dragan Petrović   \n",
       "4        74           0  49875       Petar Čelik   \n",
       "\n",
       "                                               quote  \\\n",
       "0  Vučić uništava državu, jer ne zna ništa o ekon...   \n",
       "1  Opozicija će ovakvim ponašanjem biti skroz izb...   \n",
       "2  Đinđića su ubili oni koji su se plašili modern...   \n",
       "3  Bliži se poslednji trenutak da sprečimo izdaju...   \n",
       "4  Svetom vladaju oni koji kontrolišu sve tokove ...   \n",
       "\n",
       "                                              tokens  \\\n",
       "0  [vučić, uništava, državu, jer, ne, zna, ništa,...   \n",
       "1  [opozicija, će, ovakvim, ponašanjem, biti, skr...   \n",
       "2  [đinđića, su, ubili, oni, koji, su, se, plašil...   \n",
       "3  [bliži, se, poslednji, trenutak, da, sprečimo,...   \n",
       "4  [svetom, vladaju, oni, koji, kontrolišu, sve, ...   \n",
       "\n",
       "                                              2_gram  \\\n",
       "0  [vučić uništava, uništava državu, državu jer, ...   \n",
       "1  [opozicija će, će ovakvim, ovakvim ponašanjem,...   \n",
       "2  [đinđića su, su ubili, ubili oni, oni koji, ko...   \n",
       "3  [bliži se, se poslednji, poslednji trenutak, t...   \n",
       "4  [svetom vladaju, vladaju oni, oni koji, koji k...   \n",
       "\n",
       "                                              3_gram         page_name  year  \\\n",
       "0  [vučić uništava državu, uništava državu jer, d...  Slobodan_Komazec  2018   \n",
       "1  [opozicija će ovakvim, će ovakvim ponašanjem, ...      Jelena_Maćić  2018   \n",
       "2  [đinđića su ubili, su ubili oni, ubili oni koj...    Zoran_Živković  2018   \n",
       "3  [bliži se poslednji, se poslednji trenutak, po...   Dragan_Petrović  2018   \n",
       "4  [svetom vladaju oni, vladaju oni koji, oni koj...       Petar_Čelik  2018   \n",
       "\n",
       "   month  month_from_start  week_day  \n",
       "0      3                34  Thursday  \n",
       "1      3                34   Tuesday  \n",
       "2      3                34    Monday  \n",
       "3      3                34    Sunday  \n",
       "4      3                34  Saturday  "
      ]
     },
     "execution_count": 10,
     "metadata": {},
     "output_type": "execute_result"
    }
   ],
   "source": [
    "data = pd.read_pickle(video_data)\n",
    "data.head()"
   ]
  },
  {
   "cell_type": "markdown",
   "metadata": {},
   "source": [
    "# Removing Stopwords"
   ]
  },
  {
   "cell_type": "code",
   "execution_count": 22,
   "metadata": {
    "collapsed": true
   },
   "outputs": [],
   "source": [
    "def remove_stopwords(words, stopwords):\n",
    "    \"\"\" Returns a lsit of 'informative' words\n",
    "    \"\"\"\n",
    "    new_words = []\n",
    "    for word in words:\n",
    "        if word not in stopwords:\n",
    "            new_words.append(word)\n",
    "    return new_words"
   ]
  },
  {
   "cell_type": "code",
   "execution_count": 27,
   "metadata": {
    "collapsed": true
   },
   "outputs": [],
   "source": [
    "MISSING_STOPWORDS = [\"i\", \"da\", \"je\",\"u\", \"su\", \"na\", \"se\", \"za\", \"ne\",\n",
    "                     \"će\", \"od\", \"sam\", \"iz\", \"samo\", \"sa\", \"mi\", \"o\", \"jer\", \"do\",\n",
    "                    \"ali\",\"ako\",\"do\",\"što\",\"bili\",\"bi\",\"treba\", \"smo\", \"nama\", \"nam\",\n",
    "                     \"a\", \"me\", \"to\", \"sebe\", \"svi\", \"deo\", \"nema\", \"čeka\", \"svih\",\n",
    "                    \"neće\", \"našu\", \"iza\", \"ceo\", \"širom\", \"naši\", \"naša\", \"među\", \n",
    "                    \"celu\",\"ga\", \"uz\", \"bila\", \"gori\", \"već\", \"niko\", \"sme\", \"pred\", \"mu\",\n",
    "                   \"ću\", \"pa\", \"po\", \"bilo\", \"moji\", \"našeg\", \"bih\", \"ni\", \"ili\", \"tu\", \"ovu\"]"
   ]
  },
  {
   "cell_type": "code",
   "execution_count": 28,
   "metadata": {
    "collapsed": true
   },
   "outputs": [],
   "source": [
    "stopwords = stopwords+MISSING_STOPWORDS"
   ]
  },
  {
   "cell_type": "code",
   "execution_count": 30,
   "metadata": {
    "collapsed": false
   },
   "outputs": [
    {
     "data": {
      "text/html": [
       "<div>\n",
       "<style>\n",
       "    .dataframe thead tr:only-child th {\n",
       "        text-align: right;\n",
       "    }\n",
       "\n",
       "    .dataframe thead th {\n",
       "        text-align: left;\n",
       "    }\n",
       "\n",
       "    .dataframe tbody tr th {\n",
       "        vertical-align: top;\n",
       "    }\n",
       "</style>\n",
       "<table border=\"1\" class=\"dataframe\">\n",
       "  <thead>\n",
       "    <tr style=\"text-align: right;\">\n",
       "      <th></th>\n",
       "      <th>title</th>\n",
       "      <th>published</th>\n",
       "      <th>tags</th>\n",
       "      <th>comments</th>\n",
       "      <th>likes</th>\n",
       "      <th>dislikes</th>\n",
       "      <th>favourites</th>\n",
       "      <th>views</th>\n",
       "      <th>guest_name</th>\n",
       "      <th>quote</th>\n",
       "      <th>tokens</th>\n",
       "      <th>2_gram</th>\n",
       "      <th>3_gram</th>\n",
       "      <th>page_name</th>\n",
       "      <th>year</th>\n",
       "      <th>month</th>\n",
       "      <th>month_from_start</th>\n",
       "      <th>week_day</th>\n",
       "      <th>tokens_stopwords</th>\n",
       "    </tr>\n",
       "  </thead>\n",
       "  <tbody>\n",
       "    <tr>\n",
       "      <th>0</th>\n",
       "      <td>INTERVJU: Slobodan Komazec - Vučić uništava dr...</td>\n",
       "      <td>2018-03-15</td>\n",
       "      <td>[Balkan Info Intervju, Balkan Info, Балкан Инф...</td>\n",
       "      <td>88</td>\n",
       "      <td>250</td>\n",
       "      <td>19</td>\n",
       "      <td>0</td>\n",
       "      <td>9432</td>\n",
       "      <td>Slobodan Komazec</td>\n",
       "      <td>Vučić uništava državu, jer ne zna ništa o ekon...</td>\n",
       "      <td>[vučić, uništava, državu, jer, ne, zna, ništa,...</td>\n",
       "      <td>[vučić uništava, uništava državu, državu jer, ...</td>\n",
       "      <td>[vučić uništava državu, uništava državu jer, d...</td>\n",
       "      <td>Slobodan_Komazec</td>\n",
       "      <td>2018</td>\n",
       "      <td>3</td>\n",
       "      <td>34</td>\n",
       "      <td>Thursday</td>\n",
       "      <td>[vučić, uništava, državu, zna, ekonomiji]</td>\n",
       "    </tr>\n",
       "    <tr>\n",
       "      <th>1</th>\n",
       "      <td>INTERVJU: Jelena Maćić - Opozicija će ovakvim ...</td>\n",
       "      <td>2018-03-13</td>\n",
       "      <td>[Balkan Info Intervju, Balkan Info, Балкан Инф...</td>\n",
       "      <td>465</td>\n",
       "      <td>493</td>\n",
       "      <td>254</td>\n",
       "      <td>0</td>\n",
       "      <td>51341</td>\n",
       "      <td>Jelena Maćić</td>\n",
       "      <td>Opozicija će ovakvim ponašanjem biti skroz izb...</td>\n",
       "      <td>[opozicija, će, ovakvim, ponašanjem, biti, skr...</td>\n",
       "      <td>[opozicija će, će ovakvim, ovakvim ponašanjem,...</td>\n",
       "      <td>[opozicija će ovakvim, će ovakvim ponašanjem, ...</td>\n",
       "      <td>Jelena_Maćić</td>\n",
       "      <td>2018</td>\n",
       "      <td>3</td>\n",
       "      <td>34</td>\n",
       "      <td>Tuesday</td>\n",
       "      <td>[opozicija, ovakvim, ponašanjem, skroz, izbris...</td>\n",
       "    </tr>\n",
       "    <tr>\n",
       "      <th>2</th>\n",
       "      <td>INTERVJU: Zoran Živković - Đinđića su ubili on...</td>\n",
       "      <td>2018-03-12</td>\n",
       "      <td>[Balkan Info, Балкан Инфо, Теша Тешановић, Teš...</td>\n",
       "      <td>280</td>\n",
       "      <td>231</td>\n",
       "      <td>547</td>\n",
       "      <td>0</td>\n",
       "      <td>20028</td>\n",
       "      <td>Zoran Živković</td>\n",
       "      <td>Đinđića su ubili oni koji su se plašili modern...</td>\n",
       "      <td>[đinđića, su, ubili, oni, koji, su, se, plašil...</td>\n",
       "      <td>[đinđića su, su ubili, ubili oni, oni koji, ko...</td>\n",
       "      <td>[đinđića su ubili, su ubili oni, ubili oni koj...</td>\n",
       "      <td>Zoran_Živković</td>\n",
       "      <td>2018</td>\n",
       "      <td>3</td>\n",
       "      <td>34</td>\n",
       "      <td>Monday</td>\n",
       "      <td>[đinđića, ubili, plašili, moderne, srbije]</td>\n",
       "    </tr>\n",
       "    <tr>\n",
       "      <th>3</th>\n",
       "      <td>INTERVJU: Dragan Petrović - Bliži se poslednji...</td>\n",
       "      <td>2018-03-11</td>\n",
       "      <td>[Balkan Info, Балкан Инфо, Теша Тешановић, Teš...</td>\n",
       "      <td>298</td>\n",
       "      <td>693</td>\n",
       "      <td>81</td>\n",
       "      <td>0</td>\n",
       "      <td>51857</td>\n",
       "      <td>Dragan Petrović</td>\n",
       "      <td>Bliži se poslednji trenutak da sprečimo izdaju...</td>\n",
       "      <td>[bliži, se, poslednji, trenutak, da, sprečimo,...</td>\n",
       "      <td>[bliži se, se poslednji, poslednji trenutak, t...</td>\n",
       "      <td>[bliži se poslednji, se poslednji trenutak, po...</td>\n",
       "      <td>Dragan_Petrović</td>\n",
       "      <td>2018</td>\n",
       "      <td>3</td>\n",
       "      <td>34</td>\n",
       "      <td>Sunday</td>\n",
       "      <td>[bliži, poslednji, trenutak, sprečimo, izdaju,...</td>\n",
       "    </tr>\n",
       "    <tr>\n",
       "      <th>4</th>\n",
       "      <td>INTERVJU: Petar Čelik - Svetom vladaju oni koj...</td>\n",
       "      <td>2018-03-10</td>\n",
       "      <td>[Balkan Info Intervju, Balkan Info, Балкан Инф...</td>\n",
       "      <td>240</td>\n",
       "      <td>727</td>\n",
       "      <td>74</td>\n",
       "      <td>0</td>\n",
       "      <td>49875</td>\n",
       "      <td>Petar Čelik</td>\n",
       "      <td>Svetom vladaju oni koji kontrolišu sve tokove ...</td>\n",
       "      <td>[svetom, vladaju, oni, koji, kontrolišu, sve, ...</td>\n",
       "      <td>[svetom vladaju, vladaju oni, oni koji, koji k...</td>\n",
       "      <td>[svetom vladaju oni, vladaju oni koji, oni koj...</td>\n",
       "      <td>Petar_Čelik</td>\n",
       "      <td>2018</td>\n",
       "      <td>3</td>\n",
       "      <td>34</td>\n",
       "      <td>Saturday</td>\n",
       "      <td>[svetom, vladaju, kontrolišu, tokove, novca, s...</td>\n",
       "    </tr>\n",
       "  </tbody>\n",
       "</table>\n",
       "</div>"
      ],
      "text/plain": [
       "                                               title  published  \\\n",
       "0  INTERVJU: Slobodan Komazec - Vučić uništava dr... 2018-03-15   \n",
       "1  INTERVJU: Jelena Maćić - Opozicija će ovakvim ... 2018-03-13   \n",
       "2  INTERVJU: Zoran Živković - Đinđića su ubili on... 2018-03-12   \n",
       "3  INTERVJU: Dragan Petrović - Bliži se poslednji... 2018-03-11   \n",
       "4  INTERVJU: Petar Čelik - Svetom vladaju oni koj... 2018-03-10   \n",
       "\n",
       "                                                tags  comments  likes  \\\n",
       "0  [Balkan Info Intervju, Balkan Info, Балкан Инф...        88    250   \n",
       "1  [Balkan Info Intervju, Balkan Info, Балкан Инф...       465    493   \n",
       "2  [Balkan Info, Балкан Инфо, Теша Тешановић, Teš...       280    231   \n",
       "3  [Balkan Info, Балкан Инфо, Теша Тешановић, Teš...       298    693   \n",
       "4  [Balkan Info Intervju, Balkan Info, Балкан Инф...       240    727   \n",
       "\n",
       "   dislikes  favourites  views        guest_name  \\\n",
       "0        19           0   9432  Slobodan Komazec   \n",
       "1       254           0  51341      Jelena Maćić   \n",
       "2       547           0  20028    Zoran Živković   \n",
       "3        81           0  51857   Dragan Petrović   \n",
       "4        74           0  49875       Petar Čelik   \n",
       "\n",
       "                                               quote  \\\n",
       "0  Vučić uništava državu, jer ne zna ništa o ekon...   \n",
       "1  Opozicija će ovakvim ponašanjem biti skroz izb...   \n",
       "2  Đinđića su ubili oni koji su se plašili modern...   \n",
       "3  Bliži se poslednji trenutak da sprečimo izdaju...   \n",
       "4  Svetom vladaju oni koji kontrolišu sve tokove ...   \n",
       "\n",
       "                                              tokens  \\\n",
       "0  [vučić, uništava, državu, jer, ne, zna, ništa,...   \n",
       "1  [opozicija, će, ovakvim, ponašanjem, biti, skr...   \n",
       "2  [đinđića, su, ubili, oni, koji, su, se, plašil...   \n",
       "3  [bliži, se, poslednji, trenutak, da, sprečimo,...   \n",
       "4  [svetom, vladaju, oni, koji, kontrolišu, sve, ...   \n",
       "\n",
       "                                              2_gram  \\\n",
       "0  [vučić uništava, uništava državu, državu jer, ...   \n",
       "1  [opozicija će, će ovakvim, ovakvim ponašanjem,...   \n",
       "2  [đinđića su, su ubili, ubili oni, oni koji, ko...   \n",
       "3  [bliži se, se poslednji, poslednji trenutak, t...   \n",
       "4  [svetom vladaju, vladaju oni, oni koji, koji k...   \n",
       "\n",
       "                                              3_gram         page_name  year  \\\n",
       "0  [vučić uništava državu, uništava državu jer, d...  Slobodan_Komazec  2018   \n",
       "1  [opozicija će ovakvim, će ovakvim ponašanjem, ...      Jelena_Maćić  2018   \n",
       "2  [đinđića su ubili, su ubili oni, ubili oni koj...    Zoran_Živković  2018   \n",
       "3  [bliži se poslednji, se poslednji trenutak, po...   Dragan_Petrović  2018   \n",
       "4  [svetom vladaju oni, vladaju oni koji, oni koj...       Petar_Čelik  2018   \n",
       "\n",
       "   month  month_from_start  week_day  \\\n",
       "0      3                34  Thursday   \n",
       "1      3                34   Tuesday   \n",
       "2      3                34    Monday   \n",
       "3      3                34    Sunday   \n",
       "4      3                34  Saturday   \n",
       "\n",
       "                                    tokens_stopwords  \n",
       "0          [vučić, uništava, državu, zna, ekonomiji]  \n",
       "1  [opozicija, ovakvim, ponašanjem, skroz, izbris...  \n",
       "2         [đinđića, ubili, plašili, moderne, srbije]  \n",
       "3  [bliži, poslednji, trenutak, sprečimo, izdaju,...  \n",
       "4  [svetom, vladaju, kontrolišu, tokove, novca, s...  "
      ]
     },
     "execution_count": 30,
     "metadata": {},
     "output_type": "execute_result"
    }
   ],
   "source": [
    "data[\"tokens_stopwords\"] = data[\"tokens\"].apply(lambda x: remove_stopwords(x, stopwords))\n",
    "data.head()"
   ]
  },
  {
   "cell_type": "markdown",
   "metadata": {},
   "source": [
    "# Dictionary"
   ]
  },
  {
   "cell_type": "code",
   "execution_count": 44,
   "metadata": {
    "collapsed": false
   },
   "outputs": [],
   "source": [
    "dictionary = gensim.corpora.Dictionary(data.tokens.values)"
   ]
  },
  {
   "cell_type": "code",
   "execution_count": 45,
   "metadata": {
    "collapsed": false
   },
   "outputs": [
    {
     "name": "stdout",
     "output_type": "stream",
     "text": [
      "Dictionary(1768 unique tokens: ['državu', 'ekonomiji', 'jer', 'ne', 'ništa']...)\n"
     ]
    }
   ],
   "source": [
    "print(dictionary)"
   ]
  },
  {
   "cell_type": "code",
   "execution_count": 46,
   "metadata": {
    "collapsed": false
   },
   "outputs": [
    {
     "name": "stdout",
     "output_type": "stream",
     "text": [
      "{'državu': 0, 'ekonomiji': 1, 'jer': 2, 'ne': 3, 'ništa': 4, 'o': 5, 'uništava': 6, 'vučić': 7, 'zna': 8, 'biti': 9, 'izbrisana': 10, 'mape': 11, 'opozicija': 12, 'ovakvim': 13, 'ponašanjem': 14, 'sa': 15, 'skroz': 16, 'će': 17, 'koji': 18, 'moderne': 19, 'oni': 20, 'plašili': 21, 'se': 22, 'srbije': 23, 'su': 24, 'ubili': 25, 'đinđića': 26, 'bliži': 27, 'da': 28, 'izdaju': 29, 'kosova': 30, 'poslednji': 31, 'sprečimo': 32, 'trenutak': 33, 'iz': 34, 'kontrolišu': 35, 'novca': 36, 'senke': 37, 'sve': 38, 'svetom': 39, 'tokove': 40, 'vladaju': 41, 'je': 42, 'mora': 43, 'na': 44, 'narod': 45, 'probudi': 46, 'sedativima': 47, 'sna': 48, 'srbija': 49, 'bili': 50, 'deo': 51, 'i': 52, 'naše': 53, 'odrastanja': 54, 'poroci': 55, 'rokenrola': 56, 'u': 57, 'vreme': 58, 'dokumenta': 59, 'istoriji': 60, 'naroda': 61, 'pravoj': 62, 'skriva': 63, 'srpskog': 64, 'vatikan': 65, 'amerike': 66, 'carstvo': 67, 'globalističko': 68, 'kraju': 69, 'svom': 70, 'više': 71, 'istorija': 72, 'milu': 73, 'njegove': 74, 'politike': 75, 'suditi': 76, 'zbog': 77, 'đukanoviću': 78, 'hteli': 79, 'istinu': 80, 'likvidiraju': 81, 'me': 82, 'mnogi': 83, 'otkrio': 84, 'sam': 85, 'zato': 86, 'što': 87, 'branimo': 88, 'izdaji': 89, 'kosovo': 90, 'neće': 91, 'smo': 92, 'spremni': 93, 'veterani': 94, 'ćutati': 95, 'neutralnost': 96, 'rok': 97, 'sačuva': 98, 'vojni': 99, 'vojnu': 100, 'vrati': 101, 'opasnim': 102, 'ratu': 103, 'svet': 104, 'velikom': 105, 'vremenima': 106, 'živimo': 107, 'hapšenjem': 108, 'mi': 109, 'mog': 110, 'politiku': 111, 'povratka': 112, 'preti': 113, 'samo': 114, 'ali': 115, 'dosmanlije': 116, 'gori': 117, 'još': 118, 'loš': 119, 'njega': 120, 'od': 121, 'ostali': 122, 'građana': 123, 'pokažem': 124, 'poverenja': 125, 'trudiću': 126, 'vredan': 127, 'bolja': 128, 'boriti': 129, 'do': 130, 'dočekamo': 131, 'kraja': 132, 'vremena': 133, 'ću': 134, 'kolektivno': 135, 'ludilo': 136, 'porodica': 137, 'svetu': 138, 'vlada': 139, 'donosi': 140, 'odluke': 141, 'srbiji': 142, 'strah': 143, 'čovek': 144, 'bolesti': 145, 'dana': 146, 'fluor': 147, 'izaziva': 148, 'mnoge': 149, 'opasan': 150, 'svakog': 151, 'veoma': 152, 'hobotnice': 153, 'iste': 154, 'kriminalne': 155, 'političari': 156, 'regionu': 157, 'svi': 158, 'brže': 159, 'danas': 160, 'propast': 161, 'srbijom': 162, 'srljamo': 163, 'tiranija': 164, 'kk': 165, 'oterali': 166, 'partizan': 167, 'smetao': 168, 'vučiću': 169, 'bude': 170, 'država': 171, 'jedan': 172, 'može': 173, 'umislio': 174, 'blago': 175, 'istorijsko': 176, 'nemilosrdno': 177, 'otima': 178, 'pljačka': 179, 'kontrolisali': 180, 'mafiju': 181, 'oduvek': 182, 'službe': 183, 'tajne': 184, 'nalazi': 185, 'oružje': 186, 'rukama': 187, 'tajno': 188, 'teslino': 189, 'vladara': 190, 'decenijama': 191, 'mafija': 192, 'politička': 193, 'srbiju': 194, 'već': 195, 'arkana': 196, 'miloševiću': 197, 'postao': 198, 'pretnja': 199, 'služba': 200, 'ubila': 201, 'kao': 202, 'koristi': 203, 'partiji': 204, 'pokera': 205, 'rusija': 206, 'velikoj': 207, 'žeton': 208, '25': 209, 'apokalipse': 210, 'godina': 211, 'jahača': 212, 'sedam': 213, 'srpske': 214, 'odavno': 215, 'okupiran': 216, 'porobljen': 217, 'potpunosti': 218, 'srpski': 219, 'metohije': 220, 'nema': 221, 'potpiše': 222, 'pravo': 223, 'bitcoin': 224, 'budućnosti': 225, 'našu': 226, 'ozbiljno': 227, 'slobodu': 228, 'ugrozi': 229, 'ivanovića': 230, 'olivera': 231, 'poruka': 232, 'ubistvo': 233, 'važna': 234, 'za': 235, 'imao': 236, 'misterija': 237, 'ostati': 238, 'tajnovit': 239, 'tapi': 240, 'život': 241, 'građane': 242, 'obavezna': 243, 'vakcinacija': 244, 'želimo': 245, 'funkcioniše': 246, 'glumi': 247, 'javna': 248, 'kuća': 249, 'sistem': 250, 'civilizacije': 251, 'dve': 252, 'moćne': 253, 'postoji': 254, 'sukob': 255, 'vanzemaljske': 256, 'zemlji': 257, 'iza': 258, 'neprijatelji': 259, 'stoje': 260, 'ubistva': 261, 'evolucije': 262, 'laž': 263, 'ploča': 264, 'ravna': 265, 'teorija': 266, 'verujem': 267, 'zemlja': 268, 'fudbalere': 269, 'lično': 270, 'najbolje': 271, 'po': 272, 'selima': 273, 'najviše': 274, 'napada': 275, 'nas': 276, 'opozicije': 277, 'plaši': 278, 'ujedinjene': 279, 'istoriju': 280, 'menja': 281, 'želi': 282, 'cilj': 283, 'imaju': 284, 'kapitalistička': 285, 'unište': 286, 'čovečanstvo': 287, 'đubrad': 288, 'ceo': 289, 'prilika': 290, 'ujedini': 291, 'izdajnici': 292, 'otcepili': 293, 'uništili': 294, 'vojsku': 295, 'izbori': 296, 'menjaju': 297, 'nam': 298, 'potrebna': 299, 'promena': 300, 'sistema': 301, 'balkanu': 302, 'bezumlja': 303, 'početak': 304, 'dolaze': 305, 'najteža': 306, 'očekuje': 307, 'rat': 308, 'svetski': 309, 'treći': 310, 'donesu': 311, 'mogu': 312, 'prestaje': 313, 'priča': 314, 'promene': 315, 'sva': 316, 'tu': 317, 'dozvoliti': 318, 'smemo': 319, 'to': 320, 'vodi': 321, 'bog': 322, 'crkve': 323, 'niko': 324, 'ozbiljan': 325, 'poslao': 326, 'reći': 327, 'vučića': 328, 'decu': 329, 'otimaju': 330, 'pedofili': 331, 'prva': 332, 'sveta': 333, 'upozorila': 334, 'širom': 335, 'ako': 336, 'crkva': 337, 'odbaci': 338, 'otadžbina': 339, 'arkan': 340, 'hrabri': 341, 'legija': 342, 'ljudi': 343, 'ratnici': 344, 'veliki': 345, '1918': 346, 'godine': 347, 'okupirana': 348, 'kad': 349, 'karata': 350, 'kula': 351, 'najjači': 352, 'padne': 353, 'sns': 354, 'trenutku': 355, 'otkrijemo': 356, 'pokušavaju': 357, 'spreče': 358, 'srebrenici': 359, 'celom': 360, 'haos': 361, 'izda': 362, 'potpuni': 363, 'jug': 364, 'navijačima': 365, 'nemaju': 366, 'veze': 367, 'dozvoli': 368, 'nezavisnosti': 369, 'priznanje': 370, 'sme': 371, 'elite': 372, 'ispiranju': 373, 'kontroli': 374, 'ljudima': 375, 'mozga': 376, 'rade': 377, 'svetske': 378, 'uma': 379, 'balkanom': 380, 'istorijskih': 381, 'nad': 382, 'neistina': 383, 'prepune': 384, 'beže': 385, 'bi': 386, 'postigli': 387, 'tragedija': 388, 'uspeh': 389, 'uspešni': 390, 'aferama': 391, 'pretnjama': 392, 'ucenama': 393, 'vlast': 394, 'izdaja': 395, 'velika': 396, 'čitav': 397, 'baš': 398, 'isti': 399, 'političare': 400, 'rijaliti': 401, 'treba': 402, 'zaključati': 403, 'cela': 404, 'civilizacija': 405, 'drevnog': 406, 'evropska': 407, 'potiče': 408, 'hrvati': 409, 'kradu': 410, 'lažno': 411, 'predstavljaju': 412, 'svoju': 413, 'tuđu': 414, 'janković': 415, 'mene': 416, 'srušiti': 417, 'koja': 418, 'koloniju': 419, 'moramo': 420, 'pogubnu': 421, 'pretvara': 422, 'zaustaviti': 423, 'boga': 424, 'leče': 425, 'medicina': 426, 'najteže': 427, 'prirodna': 428, 'uspešno': 429, 'vera': 430, 'celo': 431, 'možda': 432, 'uništi': 433, 'najveću': 434, 'opasnost': 435, 'ubijaju': 436, 'vakcine': 437, 'dobri': 438, 'mišje': 439, 'oteraju': 440, 'rupe': 441, 'sataniste': 442, 'zakoni': 443, 'evropi': 444, 'najstarija': 445, 'stvorena': 446, 'blizu': 447, 'istorije': 448, 'kraj': 449, 'neizbežan': 450, 'elita': 451, 'evropskog': 452, 'kriminalci': 453, 'naši': 454, 'podzemlja': 455, 'prava': 456, 'koje': 457, 'marioneta': 458, 'sila': 459, 'stranih': 460, 'uništavaju': 461, 'ključne': 462, 'kontroliše': 463, 'medije': 464, 'večno': 465, 'želji': 466, 'ideologiju': 467, 'izdao': 468, 'stvorili': 469, 'tadić': 470, 'tajkuni': 471, 'ljige': 472, 'marionete': 473, 'novinari': 474, 'opstaju': 475, 'postanu': 476, 'teško': 477, 'sud': 478, 'veleizdaje': 479, 'čeka': 480, 'dekadencije': 481, 'ide': 482, 'svoje': 483, 'zapadni': 484, 'druge': 485, 'otete': 486, 'teritorije': 487, 'vratiti': 488, 'licemer': 489, 'opoziciju': 490, 'mrze': 491, 'probleme': 492, 'razlikuje': 493, 'velike': 494, 'mržnja': 495, 'tinja': 496, 'uvek': 497, 'naš': 498, 'parazitski': 499, 'srušimo': 500, 'uklonimo': 501, 'mladi': 502, 'puno': 503, 'znaju': 504, 'budem': 505, 'granice': 506, 'pomeraju': 507, 'projekata': 508, 'čast': 509, 'bara': 510, 'bio': 511, 'devedesetih': 512, 'kriminal': 513, 'krokodila': 514, 'mala': 515, 'puna': 516, 'bankari': 517, 'crno': 518, 'našim': 519, 'odlučuju': 520, 'plemstvo': 521, 'sudbinama': 522, 'izdaje': 523, 'paradoksa': 524, 'postala': 525, 'šizofrenije': 526, 'bes': 527, 'cenu': 528, 'izborima': 529, 'narodu': 530, 'platiti': 531, 'skuplja': 532, 'nećemo': 533, 'odvede': 534, 'provaliju': 535, 'nezavisno': 536, 'republika': 537, 'srpska': 538, 'žele': 539, 'borili': 540, 'ognjišta': 541, 'sačuvaju': 542, 'metak': 543, 'otkriva': 544, 'pravu': 545, 'ubistvu': 546, 'zorana': 547, 'broz': 548, 'josip': 549, 'tito': 550, 'života': 551, 'boksu': 552, 'leđa': 553, 'politici': 554, 'udaraca': 555, 'hoće': 556, 'najstarijih': 557, 'bilo': 558, 'bodibilding': 559, 'drugačije': 560, 'hemije': 561, 'nekada': 562, 'pun': 563, 'satanisti': 564, 'takav': 565, 'napade': 566, 'organizuju': 567, 'terorističke': 568, 'kontrola': 569, 'ljudskog': 570, 'čipovanje': 571, 'deca': 572, 'generacija': 573, 'klase': 574, 'naša': 575, 'odrasla': 576, 'radničke': 577, 'ulici': 578, 'cele': 579, 'države': 580, 'klan': 581, 'moćniji': 582, 'zemunski': 583, 'džet': 584, 'ima': 585, 'kompleksaša': 586, 'među': 587, 'njima': 588, 'set': 589, 'čuvao': 590, 'američki': 591, 'najopasniji': 592, 'političkoj': 593, 'projekat': 594, 'sceni': 595, 'ološ': 596, 'očistiti': 597, 'politički': 598, 'totalitarni': 599, 'muslimani': 600, 'ratovima': 601, 'stalnim': 602, 'sukobima': 603, 'bezbednosti': 604, 'dešava': 605, 'internetu': 606, 'prate': 607, 'skoro': 608, 'masama': 609, 'vladari': 610, 'zaglupljenim': 611, 'krupne': 612, 'režim': 613, 'sitnim': 614, 'zamajava': 615, 'zataškava': 616, 'milijarda': 617, 'preživeće': 618, 'uništenje': 619, 'zlatna': 620, 'čovečanstvu': 621, 'podzemlje': 622, 'stvorile': 623, 'izboriti': 624, 'robovi': 625, 'vlasti': 626, 'bolest': 627, 'pobede': 628, 'pomognem': 629, 'svim': 630, 'želim': 631, 'film': 632, 'holivudski': 633, 'htela': 634, 'moj': 635, 'sudbina': 636, 'ekonomija': 637, 'neznalice': 638, 'obične': 639, 'propada': 640, 'vode': 641, 'celu': 642, 'falsifikuju': 643, 'buntovnik': 644, 'pobedim': 645, 'sebe': 646, 'uspeo': 647, 'nezavisnost': 648, 'priznati': 649, 'rusiji': 650, 'sankcije': 651, 'uvesti': 652, 'autobiografska': 653, 'hit': 654, 'kokaina': 655, 'kralj': 656, 'moja': 657, 'najveći': 658, 'pesma': 659, 'bitku': 660, 'izgubićemo': 661, 'pokore': 662, 'crnih': 663, 'finansiraju': 664, 'fondova': 665, 'operacije': 666, 'deluju': 667, 'ikada': 668, 'kroz': 669, 'nego': 670, 'opasnije': 671, 'pojedince': 672, 'sekte': 673, 'događaje': 674, 'kosmičke': 675, 'ljudske': 676, 'sile': 677, 'sudbine': 678, 'utiču': 679, 'ga': 680, 'giška': 681, 'metkom': 682, 'ubijen': 683, 'znao': 684, 'šta': 685, 'fudbaleri': 686, 'kriminalaca': 687, 'moraju': 688, 'starleta': 689, 'čuvaju': 690, 'komunista': 691, 'oslobodi': 692, 'ustaša': 693, 'a': 694, 'biznismeni': 695, 'kurve': 696, 'postale': 697, 'starlete': 698, 'dođe': 699, 'haradinaj': 700, 'heroj': 701, 'lažni': 702, 'lice': 703, 'pravde': 704, 'pred': 705, 'bespomoćan': 706, 'napušten': 707, 'optimizmom': 708, 'pobedio': 709, 'evropsku': 710, 'odreći': 711, 'uniju': 712, 'društva': 713, 'rituale': 714, 'satanističke': 715, 'tajna': 716, 'astrologija': 717, 'hiljadama': 718, 'nauke': 719, 'stara': 720, 'diktature': 721, 'front': 722, 'protiv': 723, 'stane': 724, 'zajednički': 725, 'beznađe': 726, 'nadu': 727, 'narodom': 728, 'povratiti': 729, 'veru': 730, 'bela': 731, 'kuga': 732, 'možemo': 733, 'najveća': 734, 'nestanemo': 735, 'mnogima': 736, 'smeta': 737, 'zaboravimo': 738, 'budemo': 739, 'gubitnici': 740, 'koliko': 741, 'nismo': 742, 'vredimo': 743, 'znali': 744, 'povezani': 745, 'čvrsto': 746, 'mađari': 747, 'otmu': 748, 'planove': 749, 'prave': 750, 'vojvodinu': 751, 'medalju': 752, 'osvoji': 753, 'reprezentacija': 754, 'zlatnu': 755, 'vrhunac': 756, 'makedonija': 757, 'okupirane': 758, 'strane': 759, 'disciplina': 760, 'dokazivao': 761, 'duh': 762, 'pomogao': 763, 'vojnički': 764, 'droge': 765, 'svetsko': 766, 'tržište': 767, 'zajedno': 768, 'društvu': 769, 'građanski': 770, 'nemiri': 771, 'falsifikata': 772, 'hrvatska': 773, 'mitova': 774, 'prepuna': 775, 'bez': 776, 'dostojanstva': 777, 'časti': 778, 'davno': 779, 'gotovo': 780, 'našeg': 781, 'nije': 782, 'počelo': 783, 'urušavanje': 784, 'dijaloga': 785, 'najava': 786, 'uvod': 787, 'daju': 788, 'haradinaju': 789, 'legitimitet': 790, 'srbi': 791, 'zlikovcu': 792, 'gradonačelnika': 793, 'moji': 794, 'preporuče': 795, 'rezultati': 796, 'pomogla': 797, 'prebrodim': 798, 'situacije': 799, 'teške': 800, 'životu': 801, 'biciklu': 802, 'kulture': 803, 'narode': 804, 'nove': 805, 'obilazim': 806, 'upoznajem': 807, 'albanskom': 808, 'beogradski': 809, 'dileri': 810, 'mafijom': 811, 'sarađuju': 812, 'nikada': 813, 'stradanje': 814, 'zaboraviti': 815, 'oca': 816, 'odrastao': 817, 'političku': 818, 'uz': 819, 'vojislava': 820, 'dali': 821, 'ovu': 822, 'vojnike': 823, 'zemlju': 824, 'promenili': 825, 'tegovi': 826, 'treniram': 827, 'voleo': 828, 'predstoje': 829, 'sukobi': 830, 'veterane': 831, 'zaboravlja': 832, 'problematičan': 833, 'svih': 834, 'volim': 835, 'buđenja': 836, 'perspektivu': 837, 'vide': 838, 'budu': 839, 'iskrene': 840, 'nacionalisti': 841, 'patriote': 842, 'momcima': 843, 'nikad': 844, 'sukobim': 845, 'žestokim': 846, 'jedna': 847, 'najvećih': 848, 'prevara': 849, 'prošlog': 850, 'srebrenica': 851, 'veka': 852, 'broja': 853, 'plan': 854, 'smanjenje': 855, 'stanovnika': 856, 'mnogih': 857, 'ubistava': 858, 'aleksandru': 859, 'pljačke': 860, 'ćemo': 861, 'hagu': 862, 'izdali': 863, 'miloševića': 864, 'onda': 865, 'otrovan': 866, 'slobodana': 867, 'asfaltu': 868, 'moje': 869, 'put': 870, 'demonima': 871, 'opsednuti': 872, 'izađe': 873, 'ulice': 874, 'boks': 875, 'ljubav': 876, 'nađem': 877, 'snaga': 878, 'svoj': 879, 'životni': 880, 'pripremaju': 881, 'dok': 882, 'iskreno': 883, 'verovali': 884, 'moderna': 885, 'profesionalna': 886, 'vojska': 887, 'današnji': 888, 'igranju': 889, 'klinci': 890, 'reprezentaciju': 891, 'svest': 892, 'amerika': 893, 'džungla': 894, 'južna': 895, 'pomogle': 896, 'upoznam': 897, 'doktori': 898, 'lek': 899, 'leči': 900, 'napravim': 901, 'bitange': 902, 'budale': 903, 'njegovi': 904, 'saradnici': 905, 'božija': 906, 'ispunjava': 907, 'dugo': 908, 'priprema': 909, 'bih': 910, 'isto': 911, 'nepravdi': 912, 'opet': 913, 'razočaran': 914, 'uradio': 915, 'draža': 916, 'mihailović': 917, 'mučenika': 918, 'srpskih': 919, 'crnu': 920, 'goru': 921, 'nastaviti': 922, 'pritisak': 923, 'ruski': 924, 'došlo': 925, 'građanskog': 926, 'priznao': 927, 'rata': 928, 'dobrovoljci': 929, 'donjecku': 930, 'fronta': 931, 'linijama': 932, 'prvim': 933, 'izmišljenu': 934, 'poreklom': 935, 'heroje': 936, 'prošlosti': 937, 'dnevnjak': 938, 'nastao': 939, 'nastavimo': 940, 'spontano': 941, 'srpskom': 942, 'imati': 943, 'jaku': 944, 'sačuvala': 945, 'identitet': 946, 'tradiciju': 947, 'čuvati': 948, 'diktator': 949, 'koreji': 950, 'neki': 951, 'severnoj': 952, 'borbe': 953, 'mma': 954, 'osećaju': 955, 'pravi': 956, 'ringu': 957, 'šampioni': 958, 'oteto': 959, 'tamo': 960, 'vratimo': 961, 'želja': 962, 'crne': 963, 'gore': 964, 'istorijska': 965, 'povratak': 966, 'pravda': 967, 'potpuno': 968, 'oslobođenje': 969, 'ujedinjenje': 970, 'zemalja': 971, 'živim': 972, 'mir': 973, 'rizikuje': 974, 'slobode': 975, 'stabilnost': 976, 'ugrožavanjem': 977, 'mesto': 978, 'službi': 979, 'sukoba': 980, 'svetskih': 981, 'tajnih': 982, 'opljačkali': 983, 'podršku': 984, 'milo': 985, 'on': 986, 'prošlost': 987, 'shvati': 988, 'đukanović': 989, 'crnoj': 990, 'izdala': 991, 'srbe': 992, 'bogu': 993, 'opstane': 994, 'dopuštaju': 995, 'namerno': 996, 'interese': 997, 'narodi': 998, 'ratuju': 999, 'tuđe': 1000, 'najbolji': 1001, 'nisam': 1002, 'patnju': 1003, 'sumnjao': 1004, 'bućkuriš': 1005, 'napravio': 1006, 'naprednjaka': 1007, 'običan': 1008, 'kralja': 1009, 'proglasi': 1010, 'balkana': 1011, 'piramide': 1012, 'vrhu': 1013, 'jugoslavije': 1014, 'krivi': 1015, 'raspad': 1016, 'ubede': 1017, 'proteraju': 1018, 'šiptari': 1019, 'američke': 1020, 'diktatori': 1021, 'tome': 1022, 'ćutimo': 1023, '11': 1024, 'kome': 1025, 'mit': 1026, 'osnovni': 1027, 'septembar': 1028, 'jednom': 1029, 'pasti': 1030, 'svestan': 1031, 'trebalo': 1032, '5': 1033, 'dosa': 1034, 'oktobar': 1035, 'razočarao': 1036, 'identiteta': 1037, 'lažne': 1038, 'nacionalnog': 1039, 'odriču': 1040, 'jugoslaviju': 1041, 'oteli': 1042, 'srušile': 1043, 'tržišta': 1044, 'brak': 1045, 'porodicu': 1046, 'poštujemo': 1047, 'okupiraju': 1048, 'oligarhija': 1049, 'krivicu': 1050, 'nametnu': 1051, 'srbima': 1052, 'bogom': 1053, 'budućim': 1054, 'odgovarati': 1055, 'pokolenjima': 1056, 'komunisti': 1057, 'ubice': 1058, 'zločinci': 1059, 'de': 1060, 'facto': 1061, 'lažov': 1062, 'evropu': 1063, 'migranti': 1064, 'genetika': 1065, 'mitove': 1066, 'razotkriva': 1067, 'dogovoreni': 1068, 'iskoristili': 1069, 'pljačku': 1070, 'evropske': 1071, 'homoseksualci': 1072, 'lobi': 1073, 'kuac': 1074, 'ploditelj': 1075, 'srba': 1076, 'tvorac': 1077, 'vrhovni': 1078, 'građanska': 1079, 'neposlušnost': 1080, 'probuditi': 1081, 'dovesti': 1082, 'imperijalističkog': 1083, 'kraha': 1084, 'revolucija': 1085, 'ni': 1086, 'tiranin': 1087, 'prizna': 1088, 'uvede': 1089, 'baruta': 1090, 'miris': 1091, 'novi': 1092, 'oseća': 1093, 'sprema': 1094, 'vazduhu': 1095, 'aleksandar': 1096, 'voli': 1097, 'favorizuje': 1098, 'feminizam': 1099, 'muškaraca': 1100, 'radikalni': 1101, 'uštrb': 1102, 'žene': 1103, 'stvarima': 1104, 'sumanutim': 1105, 'uče': 1106, 'školama': 1107, 'korumpirani': 1108, 'ubiju': 1109, 'momci': 1110, 'prijatelji': 1111, 'žestoki': 1112, 'belog': 1113, 'pokreta': 1114, 'strahuju': 1115, 'drago': 1116, 'izašli': 1117, 'protestuju': 1118, 'don': 1119, 'njemu': 1120, 'obe': 1121, 'veruju': 1122, 'žuan': 1123, 'izumire': 1124, 'odlaze': 1125, 'zemlje': 1126, 'buduće': 1127, 'generacije': 1128, 'lečenja': 1129, 'zapisao': 1130, 'gusle': 1131, 'sačuvati': 1132, 'tradicije': 1133, 'dobrovoljce': 1134, 'hapsi': 1135, 'molim': 1136, 'novorusije': 1137, 'dokazuje': 1138, 'lingvistika': 1139, 'najstariji': 1140, 'izvor': 1141, 'sandžak': 1142, 'blokira': 1143, 'protivnike': 1144, 'satanizuje': 1145, 'braća': 1146, 'imamo': 1147, 'jedinstvo': 1148, 'nerazrušivo': 1149, 'rusi': 1150, 'vekovima': 1151, 'dobijaju': 1152, 'stranaca': 1153, 'šansu': 1154, 'kriminala': 1155, 'uhapšen': 1156, 'desiti': 1157, 'shvatila': 1158, 'ukrajinom': 1159, 'francuskoj': 1160, 'pikasovog': 1161, 'slikarstva': 1162, 'učenika': 1163, 'učio': 1164, 'imbecili': 1165, 'koga': 1166, 'podržavaju': 1167, 'podržavam': 1168, 'proteste': 1169, 'budućnost': 1170, 'bojkotuje': 1171, 'izbore': 1172, 'ničega': 1173, 'stidi': 1174, 'muškarca': 1175, 'oženi': 1176, 'pravog': 1177, 'stvara': 1178, 'bande': 1179, 'kapitalističke': 1180, 'zbrišemo': 1181, 'pokaže': 1182, 'protesta': 1183, 'soroš': 1184, 'stranci': 1185, 'izdajnik': 1186, 'bila': 1187, 'borbena': 1188, 'elitna': 1189, 'jedinica': 1190, 'ameriku': 1191, 'tramp': 1192, 'napraviti': 1193, 'potrebno': 1194, 'mu': 1195, 'pokrade': 1196, 'poraz': 1197, 'kritikujemo': 1198, 'loše': 1199, 'najžešće': 1200, 'osuđujemo': 1201, 'poteze': 1202, 'motiv': 1203, 'referendum': 1204, 'sudićemo': 1205, 'uhapsićemo': 1206, 'zločine': 1207, 'mrzi': 1208, 'veleizdajnik': 1209, 'izađemo': 1210, 'pošaljemo': 1211, 'aleksandra': 1212, 'drugom': 1213, 'jeremić': 1214, 'krugu': 1215, 'pobedi': 1216, 'vuk': 1217, 'štiti': 1218, 'izbor': 1219, 'nacionaliste': 1220, 'iako': 1221, 'nezadovoljstvo': 1222, 'pobediti': 1223, 'raste': 1224, 'sigurno': 1225, 'oprostiti': 1226, 'uništavanje': 1227, 'izbora': 1228, 'borbu': 1229, 'ljude': 1230, 'pozivam': 1231, 'režima': 1232, 'ustanak': 1233, 'vučićevog': 1234, 'jedini': 1235, 'njegov': 1236, 'protivnik': 1237, 'sebi': 1238, 'izlečim': 1239, 'pričam': 1240, 'smem': 1241, 'pojesti': 1242, 'slobu': 1243, 'šakali': 1244, 'ljajić': 1245, 'neću': 1246, 'poltron': 1247, 'rasim': 1248, 'dušanovo': 1249, 'obnovi': 1250, 'pomoći': 1251, 'družine': 1252, 'najveće': 1253, 'čelu': 1254, 'analitičari': 1255, 'mediji': 1256, 'vučićev': 1257, 'štite': 1258, 'započne': 1259, 'emotivno': 1260, 'rusiju': 1261, 'vezan': 1262, 'kada': 1263, 'srcima': 1264, 'biseri': 1265, 'crni': 1266, 'pričali': 1267, 'priče': 1268, 'tada': 1269, 'čuo': 1270, 'životne': 1271, 'imali': 1272, 'radikalnu': 1273, 'srpsku': 1274, 'stranku': 1275, 'toma': 1276, 'terorističkih': 1277, 'prevarama': 1278, 'gubitak': 1279, 'kriv': 1280, 'milošević': 1281, 'slobodan': 1282, 'konačno': 1283, 'otvori': 1284, 'oči': 1285, 'dos': 1286, 'dss': 1287, 'greškama': 1288, 'uči': 1289, 'bogate': 1290, 'kidnapovanih': 1291, 'kostima': 1292, 'ubijenih': 1293, 'falsifikuje': 1294, 'hrvatskog': 1295, 'lažnu': 1296, 'crkvu': 1297, 'ekumenisti': 1298, 'pravoslavnu': 1299, 'donald': 1300, 'predsednik': 1301, 'posećuju': 1302, 'postoje': 1303, 'siguran': 1304, 'vanzemaljci': 1305, 'doneo': 1306, 'lažna': 1307, 'opljačkale': 1308, 'ili': 1309, 'iščeznuti': 1310, 'pravoslavlje': 1311, 'izlečiti': 1312, 'moguće': 1313, 'novih': 1314, 'ratnih': 1315, 'šansa': 1316, 'nevinim': 1317, 'počinjenih': 1318, 'srpskim': 1319, 'zločina': 1320, 'žalim': 1321, 'hag': 1322, 'izručili': 1323, 'koštunica': 1324, 'prevarili': 1325, 'đinđić': 1326, 'džordž': 1327, 'pion': 1328, 'velikih': 1329, 'borio': 1330, 'otadžbinu': 1331, 'đeneral': 1332, 'jermenija': 1333, 'povezane': 1334, 'sudbinu': 1335, 'zajedničku': 1336, 'falsifikovanu': 1337, 'formacije': 1338, 'nisu': 1339, 'paravojne': 1340, 'postojale': 1341, 'dosu': 1342, 'zavetnici': 1343, 'zaboravi': 1344, 'fantomke': 1345, 'njihova': 1346, 'pobuniti': 1347, 'vrata': 1348, 'zakucaju': 1349, 'razbije': 1350, 'zadatak': 1351, 'udruženje': 1352, 'zločinačko': 1353, 'želelo': 1354, 'promoviše': 1355, 'satanizam': 1356, 'unija': 1357, 'čoveka': 1358, 'novinare': 1359, 'kartel': 1360, 'centru': 1361, 'najmoćnijih': 1362, 'diletant': 1363, 'metohiju': 1364, 'prodali': 1365, 'veleizdajnici': 1366, 'centar': 1367, 'obožavanja': 1368, 'satanizma': 1369, 'đavola': 1370, 'dalje': 1371, 'fudbal': 1372, 'mafije': 1373, 'menadžera': 1374, 'lečiti': 1375, 'manje': 1376, 'zvanična': 1377, 'pogubno': 1378, 'stanje': 1379, 'ruši': 1380, 'zvaničnu': 1381, 'okupiti': 1382, 'ponovo': 1383, 'izdati': 1384, 'ludnici': 1385, 'najbliži': 1386, 'zatvoru': 1387, 'završiće': 1388, 'herojsku': 1389, 'kosovu': 1390, '2': 1391, 'evra': 1392, 'milijarde': 1393, 'opljačkala': 1394, 'vučićeva': 1395, 'nikola': 1396, 'tesla': 1397, 'finansijskog': 1398, 'krize': 1399, 'ratovi': 1400, 'slom': 1401, 'čekaju': 1402, 'milan': 1403, 'nedić': 1404, 'spas': 1405, 'žrtvovao': 1406, 'hapšenje': 1407, 'isporučivanje': 1408, 'epska': 1409, 'poezija': 1410, 'izdajničku': 1411, 'nastavili': 1412, 'nikolić': 1413, 'tadićevu': 1414, 'metohija': 1415, 'jovanku': 1416, 'svog': 1417, 'gmo': 1418, 'poljoprivredu': 1419, 'uvozni': 1420, 'centre': 1421, 'krug': 1422, 'moći': 1423, 'uzak': 1424, 'oživljavanja': 1425, 'starih': 1426, 'lud': 1427, 'obožavaju': 1428, 'verovatno': 1429, 'društvo': 1430, 'naprednjaci': 1431, 'okupirali': 1432, 'srpsko': 1433, 'bombardovanja': 1434, 'leukemije': 1435, 'obolelih': 1436, 'tumora': 1437, 'autizam': 1438, 'izazivaju': 1439, 'opasne': 1440, 'planeti': 1441, 'agentima': 1442, 'najboljim': 1443, 'celovitost': 1444, 'državnost': 1445, 'očuvala': 1446, 'republike': 1447, 'heroji': 1448, 'košara': 1449, 'sačuvali': 1450, 'žrtvovali': 1451, 'navodnim': 1452, 'zločinima': 1453, 'amazonske': 1454, 'biljkama': 1455, 'lekovitim': 1456, 'pobedila': 1457, 'prašume': 1458, 'rak': 1459, 'dno': 1460, 'klečanja': 1461, 'paradigmu': 1462, 'predstavlja': 1463, 'avion': 1464, 'f117a': 1465, 'nevidljiv': 1466, 'pokazali': 1467, 'oktobra': 1468, 'ponižen': 1469, 'slagali': 1470, 'tomislav': 1471, 'dogovor': 1472, 'tajni': 1473, 'vojislav': 1474, 'šešelj': 1475, 'gejevi': 1476, 'pravoslavne': 1477, 'vrednosti': 1478, 'fašistička': 1479, 'tvorevina': 1480, 'farmaceutska': 1481, 'stvaranju': 1482, 'zarađuje': 1483, 'amerikanci': 1484, 'nestabilnost': 1485, 'stvore': 1486, 'sukobe': 1487, '800000': 1488, 'jasenovcu': 1489, 'koriste': 1490, 'razbijanje': 1491, 'srebrenicu': 1492, 'demagogija': 1493, 'smučili': 1494, '1999': 1495, 'celog': 1496, 'zapadnog': 1497, 'klimatsko': 1498, 'sprži': 1499, 'svaku': 1500, 'laži': 1501, 'obmane': 1502, 'trpi': 1503, 'korupcije': 1504, 'podržao': 1505, 'biraju': 1506, 'krezubi': 1507, 'nepismeni': 1508, 'okupatora': 1509, 'saradnik': 1510, 'ogromnih': 1511, 'tenzije': 1512, 'neprijatelj': 1513, 'čovečanstva': 1514, 'idioti': 1515, 'oko': 1516, 'polupismeni': 1517, 'bler': 1518, 'demistifikacija': 1519, 'savetnik': 1520, 'toni': 1521, 'eskalacije': 1522, 'pod': 1523, 'pretnjom': 1524, 'sada': 1525, 'stalnom': 1526, 'kontrolom': 1527, 'braću': 1528, 'otići': 1529, 'ruse': 1530, 'ukrajinu': 1531, 'tadića': 1532, 'uništena': 1533, 'patkice': 1534, 'sačuvamo': 1535, 'etničko': 1536, 'hrvatske': 1537, 'planirali': 1538, 'čišćenje': 1539, 'zavera': 1540, 'naučnik': 1541, 'crnogorsku': 1542, 'mitomaniju': 1543, 'poligon': 1544, 'rusku': 1545, 'neznalica': 1546, 'politikom': 1547, 'suludom': 1548, 'jaka': 1549, 'jugoslavija': 1550, 'pocepali': 1551, 'toga': 1552, 'preći': 1553, 'prorusku': 1554, 'doživela': 1555, 'veleizdaju': 1556, 'vojske': 1557, 'najmoćnije': 1558, 'stvorio': 1559, 'pravoslavni': 1560, 'zapad': 1561, 'njegova': 1562, 'crkvi': 1563, 'masoni': 1564, 'našoj': 1565, 'promenilo': 1566, 'rušenje': 1567, 'dodika': 1568, 'pakta': 1569, 'sruši': 1570, 'đavolom': 1571, 'nakon': 1572, 'umro': 1573, 'uništile': 1574, 'obojene': 1575, 'priviđaju': 1576, 'revolucije': 1577, 'režimu': 1578, 'straha': 1579, 'celokupna': 1580, 'korene': 1581, 'prevareni': 1582, 'trpeti': 1583, 'ološi': 1584, 'poluretardirani': 1585, 'moćna': 1586, 'najgori': 1587, 'bolju': 1588, 'glasa': 1589, 'zaslužuje': 1590, 'onima': 1591, 'manipuliše': 1592, 'rezultate': 1593, 'voljom': 1594, 'krah': 1595, 'naprednjake': 1596, 'pad': 1597, 'popularnosti': 1598, 'ubrzani': 1599, 'borimo': 1600, 'zaustavimo': 1601, 'dobre': 1602, 'odnose': 1603, 'rusijom': 1604, 'državnika': 1605, 'ozbiljnih': 1606, 'poslednjih': 1607, 'slavne': 1608, 'daje': 1609, 'glas': 1610, 'ko': 1611, 'svako': 1612, 'učešćem': 1613, 'azilanti': 1614, 'misle': 1615, 'siluju': 1616, 'proganjaju': 1617, 'zverski': 1618, 'pretke': 1619, 'sećanje': 1620, 'beži': 1621, 'duela': 1622, 'nadmoćan': 1623, 'tv': 1624, 'drmala': 1625, 'evropskim': 1626, 'podzemljem': 1627, 'dede': 1628, 'draže': 1629, 'istorijsku': 1630, 'ulogu': 1631, 'dijaspore': 1632, 'pomognu': 1633, 'razvoj': 1634, 'doći': 1635, 'gubi': 1636, 'balkanski': 1637, 'darko': 1638, 'evropom': 1639, 'vladali': 1640, 'šarić': 1641, 'prevaranata': 1642, 'željnih': 1643, 'dostojanstvo': 1644, 'gubimo': 1645, 'izdajnika': 1646, '30': 1647, 'mature': 1648, 'nositi': 1649, 'opoziciji': 1650, 'proslavi': 1651, 'ćevape': 1652, 'ivici': 1653, 'novog': 1654, 'teška': 1655, 'kičmu': 1656, 'nato': 1657, 'slomi': 1658, 'spc': 1659, 'uvuče': 1660, 'ih': 1661, 'ponižava': 1662, 'rodoljubiva': 1663, 'tek': 1664, 'kucnuo': 1665, 'čas': 1666, 'unije': 1667, 'mafijaške': 1668, 'pravdu': 1669, 'govore': 1670, 'jezikom': 1671, 'katolici': 1672, 'osloboditi': 1673, 'pitanje': 1674, 'smrti': 1675, 'terorizma': 1676, 'nokaut': 1677, 'prvo': 1678, 'totalni': 1679, 'zatim': 1680, 'šamar': 1681, 'bore': 1682, 'probudim': 1683, 'dužnost': 1684, 'patriotska': 1685, 'plaćenike': 1686, 'ukažem': 1687, 'zapadne': 1688, 'majstor': 1689, 'manipulacije': 1690, 'biće': 1691, 'građanskih': 1692, 'krvavih': 1693, 'ratova': 1694, 'ideje': 1695, 'nacizma': 1696, 'pakt': 1697, 'regeneracija': 1698, 'između': 1699, 'nuklearni': 1700, 'počinje': 1701, 'rusije': 1702, 'sad': 1703, 'uskoro': 1704, 'izgubiti': 1705, 'održavanja': 1706, 'ozbiljniji': 1707, 'parade': 1708, 'problemi': 1709, 'nikolića': 1710, 'odluči': 1711, 'podržati': 1712, 'reši': 1713, 'ekonomije': 1714, 'perspektive': 1715, 'sive': 1716, 'suzbijanja': 1717, 'kako': 1718, 'otuđila': 1719, 'žive': 1720, 'ekonomski': 1721, 'genocid': 1722, 'vrši': 1723, 'otcepi': 1724, 'preuzeo': 1725, 'hašim': 1726, 'kriminalac': 1727, 'ratni': 1728, 'tači': 1729, 'zločinac': 1730, 'legalizovali': 1731, 'zakonima': 1732, 'arapi': 1733, 'dočekaju': 1734, 'ovde': 1735, 'zimu': 1736, 'glave': 1737, 'upozorio': 1738, 'nemačke': 1739, 'noćna': 1740, 'savez': 1741, 'asfalta': 1742, 'beogradskog': 1743, 'hud': 1744, 'robin': 1745, 'urbani': 1746, 'azilantima': 1747, 'islamisti': 1748, 'šalju': 1749, 'ambasada': 1750, 'američka': 1751, 'engleska': 1752, 'bratska': 1753, 'ispružena': 1754, 'ruka': 1755, 'eu': 1756, 'moraćemo': 1757, 'uđemo': 1758, 'kolonije': 1759, 'virtuelne': 1760, 'prolupao': 1761, 'totalno': 1762, 'civilima': 1763, 'genocida': 1764, 'ideju': 1765, 'komunističku': 1766, 'potvrdili': 1767}\n"
     ]
    }
   ],
   "source": [
    "print(dictionary.token2id)"
   ]
  },
  {
   "cell_type": "code",
   "execution_count": 47,
   "metadata": {
    "collapsed": true
   },
   "outputs": [],
   "source": [
    "corpus = [dictionary.doc2bow(text) for text in data.tokens_stopwords.values]"
   ]
  },
  {
   "cell_type": "code",
   "execution_count": 48,
   "metadata": {
    "collapsed": false
   },
   "outputs": [
    {
     "data": {
      "text/plain": [
       "[[(0, 1), (1, 1), (6, 1), (7, 1), (8, 1)],\n",
       " [(10, 1), (11, 1), (12, 1), (13, 1), (14, 1), (16, 1)],\n",
       " [(19, 1), (21, 1), (23, 1), (25, 1), (26, 1)],\n",
       " [(27, 1), (29, 1), (30, 1), (31, 1), (32, 1), (33, 1)],\n",
       " [(35, 1), (36, 1), (37, 1), (39, 1), (40, 1), (41, 1)],\n",
       " [(45, 1), (46, 1), (47, 1), (48, 1), (49, 1)],\n",
       " [(53, 1), (54, 1), (55, 1), (56, 1), (58, 1)],\n",
       " [(59, 1), (60, 1), (61, 1), (62, 1), (63, 1), (64, 1), (65, 1)],\n",
       " [(27, 1), (66, 1), (67, 1), (68, 1), (69, 1), (70, 1)],\n",
       " [(72, 1), (73, 1), (74, 1), (75, 1), (76, 1), (78, 1)]]"
      ]
     },
     "execution_count": 48,
     "metadata": {},
     "output_type": "execute_result"
    }
   ],
   "source": [
    "corpus[:10]"
   ]
  },
  {
   "cell_type": "code",
   "execution_count": 49,
   "metadata": {
    "collapsed": false
   },
   "outputs": [],
   "source": [
    "lda = LdaModel(corpus, num_topics=10, id2word = dictionary, passes=50)"
   ]
  },
  {
   "cell_type": "code",
   "execution_count": 50,
   "metadata": {
    "collapsed": false
   },
   "outputs": [
    {
     "data": {
      "text/plain": [
       "[(0,\n",
       "  '0.014*\"vučić\" + 0.010*\"srbiji\" + 0.010*\"kontrolišu\" + 0.007*\"ljudi\" + 0.007*\"mihailović\" + 0.007*\"draža\" + 0.005*\"rat\" + 0.005*\"uništavaju\" + 0.005*\"zato\" + 0.005*\"srpsku\"'),\n",
       " (1,\n",
       "  '0.009*\"političari\" + 0.009*\"srbija\" + 0.009*\"uvek\" + 0.009*\"naše\" + 0.007*\"balkanu\" + 0.007*\"moramo\" + 0.007*\"godina\" + 0.005*\"vlast\" + 0.005*\"opozicija\" + 0.005*\"sukoba\"'),\n",
       " (2,\n",
       "  '0.017*\"naroda\" + 0.015*\"srpskog\" + 0.008*\"vučiću\" + 0.008*\"bolesti\" + 0.005*\"srbi\" + 0.005*\"izdaje\" + 0.005*\"srbijom\" + 0.005*\"istoriji\" + 0.005*\"vladaju\" + 0.005*\"tajne\"'),\n",
       " (3,\n",
       "  '0.032*\"vučić\" + 0.012*\"vučića\" + 0.012*\"srbiju\" + 0.012*\"kosova\" + 0.010*\"naroda\" + 0.008*\"žele\" + 0.008*\"narod\" + 0.008*\"izdaju\" + 0.008*\"srpski\" + 0.006*\"preti\"'),\n",
       " (4,\n",
       "  '0.013*\"kosova\" + 0.009*\"tajne\" + 0.009*\"srbije\" + 0.009*\"službe\" + 0.007*\"vlasti\" + 0.007*\"žele\" + 0.007*\"srbija\" + 0.007*\"nećemo\" + 0.007*\"država\" + 0.005*\"smemo\"'),\n",
       " (5,\n",
       "  '0.028*\"vučić\" + 0.011*\"imaju\" + 0.011*\"unište\" + 0.008*\"žele\" + 0.008*\"srbiju\" + 0.008*\"život\" + 0.008*\"narod\" + 0.006*\"cilj\" + 0.006*\"srušiti\" + 0.006*\"moramo\"'),\n",
       " (6,\n",
       "  '0.015*\"vučić\" + 0.007*\"senke\" + 0.007*\"zna\" + 0.007*\"srbija\" + 0.007*\"vladara\" + 0.007*\"svetski\" + 0.007*\"državu\" + 0.007*\"ivanovića\" + 0.007*\"olivera\" + 0.007*\"kosova\"'),\n",
       " (7,\n",
       "  '0.038*\"vučić\" + 0.014*\"narod\" + 0.012*\"vlada\" + 0.010*\"srbije\" + 0.010*\"srpski\" + 0.008*\"diktator\" + 0.008*\"aleksandar\" + 0.006*\"kosovo\" + 0.006*\"vlasti\" + 0.006*\"vučića\"'),\n",
       " (8,\n",
       "  '0.022*\"narod\" + 0.018*\"srpski\" + 0.009*\"bolesti\" + 0.007*\"smemo\" + 0.007*\"vučić\" + 0.005*\"preti\" + 0.005*\"promene\" + 0.005*\"najvećih\" + 0.005*\"nećemo\" + 0.005*\"slobodu\"'),\n",
       " (9,\n",
       "  '0.014*\"vučić\" + 0.013*\"narod\" + 0.011*\"kosovo\" + 0.011*\"vučića\" + 0.011*\"može\" + 0.011*\"srpski\" + 0.009*\"protiv\" + 0.007*\"država\" + 0.007*\"naroda\" + 0.005*\"senke\"')]"
      ]
     },
     "execution_count": 50,
     "metadata": {},
     "output_type": "execute_result"
    }
   ],
   "source": [
    "lda.show_topics(num_topics=10, num_words=10)"
   ]
  },
  {
   "cell_type": "markdown",
   "metadata": {},
   "source": [
    "# Topic Modeling"
   ]
  },
  {
   "cell_type": "code",
   "execution_count": 51,
   "metadata": {
    "collapsed": true
   },
   "outputs": [],
   "source": [
    "def show_topics(token_lst, num_topics=5, num_words=10):\n",
    "    \"\"\" Shows words (num+words) from different topics (num_topics) \n",
    "    \"\"\"\n",
    "    dictionary = gensim.corpora.Dictionary(token_lst)\n",
    "    corpus = [dictionary.doc2bow(text) for text in token_lst]\n",
    "    lda = LdaModel(corpus, num_topics=10, id2word = dictionary, passes=50)\n",
    "    return lda.show_topics(num_topics=num_topics, num_words=num_words)"
   ]
  },
  {
   "cell_type": "code",
   "execution_count": 52,
   "metadata": {
    "collapsed": false
   },
   "outputs": [
    {
     "data": {
      "text/plain": [
       "[(7,\n",
       "  '0.022*\"vučić\" + 0.018*\"vučića\" + 0.009*\"političari\" + 0.007*\"nas\" + 0.007*\"dozvoliti\" + 0.007*\"vodi\" + 0.005*\"naroda\" + 0.005*\"moramo\" + 0.005*\"sistem\" + 0.005*\"država\"'),\n",
       " (1,\n",
       "  '0.024*\"naroda\" + 0.022*\"vučić\" + 0.021*\"srpskog\" + 0.017*\"vlada\" + 0.012*\"narod\" + 0.008*\"srpski\" + 0.008*\"srbiji\" + 0.008*\"unište\" + 0.007*\"istoriju\" + 0.006*\"žele\"'),\n",
       " (5,\n",
       "  '0.018*\"kosova\" + 0.011*\"izdaju\" + 0.011*\"vučić\" + 0.009*\"uvek\" + 0.009*\"metohije\" + 0.007*\"evropska\" + 0.007*\"srbija\" + 0.007*\"rat\" + 0.007*\"unija\" + 0.005*\"vreme\"'),\n",
       " (4,\n",
       "  '0.025*\"vučić\" + 0.014*\"srbiju\" + 0.011*\"mafija\" + 0.007*\"zna\" + 0.007*\"srbija\" + 0.007*\"državu\" + 0.007*\"broz\" + 0.007*\"kraja\" + 0.007*\"naroda\" + 0.007*\"politička\"'),\n",
       " (9,\n",
       "  '0.017*\"vučić\" + 0.015*\"narod\" + 0.012*\"vlasti\" + 0.012*\"srbi\" + 0.010*\"službe\" + 0.010*\"tajne\" + 0.010*\"srpski\" + 0.008*\"može\" + 0.008*\"želimo\" + 0.008*\"lažne\"')]"
      ]
     },
     "execution_count": 52,
     "metadata": {},
     "output_type": "execute_result"
    }
   ],
   "source": [
    "show_topics(data.tokens_stopwords.values)"
   ]
  },
  {
   "cell_type": "code",
   "execution_count": 53,
   "metadata": {
    "collapsed": false
   },
   "outputs": [
    {
     "data": {
      "text/plain": [
       "[(7,\n",
       "  '0.042*\"vučić\" + 0.035*\"i\" + 0.026*\"je\" + 0.014*\"u\" + 0.012*\"koji\" + 0.010*\"će\" + 0.010*\"kosova\" + 0.009*\"su\" + 0.009*\"na\" + 0.008*\"srpski\"'),\n",
       " (0,\n",
       "  '0.029*\"i\" + 0.026*\"je\" + 0.024*\"da\" + 0.011*\"na\" + 0.010*\"naroda\" + 0.009*\"evropska\" + 0.008*\"će\" + 0.008*\"mi\" + 0.007*\"od\" + 0.007*\"srpskog\"'),\n",
       " (8,\n",
       "  '0.046*\"i\" + 0.041*\"da\" + 0.031*\"je\" + 0.023*\"u\" + 0.020*\"vučić\" + 0.009*\"su\" + 0.008*\"želi\" + 0.007*\"kosovo\" + 0.007*\"kosova\" + 0.007*\"se\"'),\n",
       " (5,\n",
       "  '0.029*\"i\" + 0.021*\"da\" + 0.014*\"na\" + 0.012*\"u\" + 0.012*\"je\" + 0.010*\"narod\" + 0.007*\"sam\" + 0.007*\"srušiti\" + 0.007*\"ne\" + 0.007*\"se\"'),\n",
       " (3,\n",
       "  '0.036*\"je\" + 0.022*\"i\" + 0.020*\"da\" + 0.014*\"su\" + 0.014*\"vučić\" + 0.012*\"na\" + 0.008*\"od\" + 0.006*\"uništavaju\" + 0.006*\"ali\" + 0.006*\"opasnost\"')]"
      ]
     },
     "execution_count": 53,
     "metadata": {},
     "output_type": "execute_result"
    }
   ],
   "source": [
    "show_topics(data.tokens.values)"
   ]
  },
  {
   "cell_type": "code",
   "execution_count": null,
   "metadata": {
    "collapsed": true
   },
   "outputs": [],
   "source": []
  }
 ],
 "metadata": {
  "kernelspec": {
   "display_name": "Python 3",
   "language": "python",
   "name": "python3"
  },
  "language_info": {
   "codemirror_mode": {
    "name": "ipython",
    "version": 3
   },
   "file_extension": ".py",
   "mimetype": "text/x-python",
   "name": "python",
   "nbconvert_exporter": "python",
   "pygments_lexer": "ipython3",
   "version": "3.6.0"
  }
 },
 "nbformat": 4,
 "nbformat_minor": 2
}
